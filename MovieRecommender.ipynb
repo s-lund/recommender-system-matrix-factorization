{
 "cells": [
  {
   "cell_type": "code",
   "execution_count": 1,
   "id": "4e7833bc-cdf6-4315-be01-49dac440a2d6",
   "metadata": {},
   "outputs": [],
   "source": [
    "import torch\n",
    "from torch import nn\n",
    "from torch.utils.data import Dataset, DataLoader\n",
    "from collections import defaultdict\n",
    "\n",
    "import pandas as pd\n",
    "from sklearn import preprocessing\n",
    "from sklearn.metrics import mean_squared_error\n",
    "from sklearn.model_selection import train_test_split\n",
    "\n",
    "import matplotlib.pyplot as plt\n",
    "import seaborn as sns"
   ]
  },
  {
   "cell_type": "code",
   "execution_count": 2,
   "id": "f4459989-3d35-4adc-8a76-a4b025d36e8b",
   "metadata": {},
   "outputs": [
    {
     "data": {
      "text/html": [
       "<div>\n",
       "<style scoped>\n",
       "    .dataframe tbody tr th:only-of-type {\n",
       "        vertical-align: middle;\n",
       "    }\n",
       "\n",
       "    .dataframe tbody tr th {\n",
       "        vertical-align: top;\n",
       "    }\n",
       "\n",
       "    .dataframe thead th {\n",
       "        text-align: right;\n",
       "    }\n",
       "</style>\n",
       "<table border=\"1\" class=\"dataframe\">\n",
       "  <thead>\n",
       "    <tr style=\"text-align: right;\">\n",
       "      <th></th>\n",
       "      <th>userId</th>\n",
       "      <th>movieId</th>\n",
       "      <th>rating</th>\n",
       "      <th>timestamp</th>\n",
       "    </tr>\n",
       "  </thead>\n",
       "  <tbody>\n",
       "    <tr>\n",
       "      <th>0</th>\n",
       "      <td>1</td>\n",
       "      <td>1</td>\n",
       "      <td>4.0</td>\n",
       "      <td>964982703</td>\n",
       "    </tr>\n",
       "    <tr>\n",
       "      <th>1</th>\n",
       "      <td>1</td>\n",
       "      <td>3</td>\n",
       "      <td>4.0</td>\n",
       "      <td>964981247</td>\n",
       "    </tr>\n",
       "    <tr>\n",
       "      <th>2</th>\n",
       "      <td>1</td>\n",
       "      <td>6</td>\n",
       "      <td>4.0</td>\n",
       "      <td>964982224</td>\n",
       "    </tr>\n",
       "    <tr>\n",
       "      <th>3</th>\n",
       "      <td>1</td>\n",
       "      <td>47</td>\n",
       "      <td>5.0</td>\n",
       "      <td>964983815</td>\n",
       "    </tr>\n",
       "    <tr>\n",
       "      <th>4</th>\n",
       "      <td>1</td>\n",
       "      <td>50</td>\n",
       "      <td>5.0</td>\n",
       "      <td>964982931</td>\n",
       "    </tr>\n",
       "  </tbody>\n",
       "</table>\n",
       "</div>"
      ],
      "text/plain": [
       "   userId  movieId  rating  timestamp\n",
       "0       1        1     4.0  964982703\n",
       "1       1        3     4.0  964981247\n",
       "2       1        6     4.0  964982224\n",
       "3       1       47     5.0  964983815\n",
       "4       1       50     5.0  964982931"
      ]
     },
     "execution_count": 2,
     "metadata": {},
     "output_type": "execute_result"
    }
   ],
   "source": [
    "df = pd.read_csv('./data/ml-latest-small/ratings.csv')\n",
    "df.head()"
   ]
  },
  {
   "cell_type": "code",
   "execution_count": 3,
   "id": "08d5a493-76b9-45db-914d-3b4d00251f56",
   "metadata": {},
   "outputs": [
    {
     "name": "stdout",
     "output_type": "stream",
     "text": [
      "Number of users: 610\n",
      "Number of movies: 9724\n"
     ]
    }
   ],
   "source": [
    "print(f'Number of users: {len(df.userId.unique())}')\n",
    "print(f'Number of movies: {len(df.movieId.unique())}')"
   ]
  },
  {
   "cell_type": "code",
   "execution_count": 4,
   "id": "a9fc0317-6514-463d-a950-618b67bf76a6",
   "metadata": {},
   "outputs": [],
   "source": [
    "class MovieRecommenderDataset(Dataset):\n",
    "    def __init__(self, users, movies, ratings):\n",
    "        super().__init__()\n",
    "        self.users = users\n",
    "        self.movies = movies\n",
    "        self.ratings = ratings\n",
    "\n",
    "    def __len__(self):\n",
    "        return len(self.users)\n",
    "\n",
    "    def __getitem__(self, idx):\n",
    "        users = self.users[idx]\n",
    "        movies = self.movies[idx]\n",
    "        ratings = self.ratings[idx]\n",
    "        return (torch.tensor(users, dtype=torch.long), \n",
    "               torch.tensor(movies, dtype=torch.long),\n",
    "               torch.tensor(ratings, dtype=torch.long))"
   ]
  },
  {
   "cell_type": "code",
   "execution_count": 5,
   "id": "e24febbe-41a3-4e1a-a807-b07c8af90d31",
   "metadata": {},
   "outputs": [],
   "source": [
    "class RecSysMatFacModel(nn.Module):\n",
    "    def __init__(self, n_users, n_movies, n_embeddings = 48, dropout_rate=0.5):\n",
    "        super().__init__()\n",
    "        self.user_embed = nn.Embedding(n_users, n_embeddings)\n",
    "        self.movie_embed = nn.Embedding(n_movies, n_embeddings)\n",
    "        #self.out = nn.Linear(n_embeddings * 2, 1)\n",
    "        self.inner = nn.Linear(n_embeddings * 2, 8)\n",
    "        self.relu = nn.ReLU()\n",
    "        self.dropout = nn.Dropout(dropout_rate)\n",
    "        self.out = nn.Linear(8, 1)\n",
    "        \n",
    "    def forward(self, users, movies):\n",
    "        user_embeds = self.user_embed(users)\n",
    "        movie_embeds = self.movie_embed(movies)\n",
    "        x = torch.cat([user_embeds, movie_embeds], dim=1)\n",
    "        x = self.inner(x)\n",
    "        x = self.relu(x)\n",
    "        x = self.dropout(x)\n",
    "        x = self.out(x)\n",
    "        return x"
   ]
  },
  {
   "cell_type": "code",
   "execution_count": 6,
   "id": "90e25e6d-82f2-45f9-b60d-f1b6ecdaa3f2",
   "metadata": {},
   "outputs": [],
   "source": [
    "user_label = preprocessing.LabelEncoder()\n",
    "movie_label = preprocessing.LabelEncoder()\n",
    "\n",
    "df['user_id'] = user_label.fit_transform(df['userId'])\n",
    "df['movie_id'] = movie_label.fit_transform(df['movieId'])\n",
    "\n",
    "training_data = df[['user_id','movie_id','rating']]\n",
    "df_train, df_test = train_test_split(training_data, test_size=0.2, random_state=1)\n",
    "\n",
    "df_train = df_train.reset_index(drop=True)\n",
    "df_test = df_test.reset_index(drop=True)"
   ]
  },
  {
   "cell_type": "code",
   "execution_count": 7,
   "id": "7c524951-c06c-4d80-8507-68b7a07104f2",
   "metadata": {},
   "outputs": [],
   "source": [
    "train_dataset = MovieRecommenderDataset(\n",
    "    users = df_train['user_id'], \n",
    "    movies = df_train['movie_id'],  \n",
    "    ratings = df_train['rating']\n",
    ")\n",
    "\n",
    "test_dataset = MovieRecommenderDataset(\n",
    "    users = df_test['user_id'], \n",
    "    movies = df_test['movie_id'],  \n",
    "    ratings = df_test['rating']\n",
    ")"
   ]
  },
  {
   "cell_type": "code",
   "execution_count": 8,
   "id": "46e9ab41-7c2d-45e0-ab5f-3ffaf7b9f7d7",
   "metadata": {},
   "outputs": [],
   "source": [
    "BATCH_SIZE = 32\n",
    "train_loader = DataLoader(dataset=train_dataset,\n",
    "                          batch_size=BATCH_SIZE,\n",
    "                          shuffle=True)\n",
    "\n",
    "test_loader = DataLoader(dataset=test_dataset,\n",
    "                          batch_size=BATCH_SIZE,\n",
    "                          shuffle=False)"
   ]
  },
  {
   "cell_type": "code",
   "execution_count": 9,
   "id": "e6807b8b-fd78-4d01-8751-3fc5e40e69bf",
   "metadata": {},
   "outputs": [
    {
     "data": {
      "text/plain": [
       "'cuda'"
      ]
     },
     "execution_count": 9,
     "metadata": {},
     "output_type": "execute_result"
    }
   ],
   "source": [
    "device = 'cuda' if torch.cuda.is_available() else 'cpu'\n",
    "device"
   ]
  },
  {
   "cell_type": "code",
   "execution_count": 10,
   "id": "41bd5c9a-3780-4ffb-ba74-1e1ff5ca8218",
   "metadata": {},
   "outputs": [],
   "source": [
    "model = RecSysMatFacModel(\n",
    "    n_users=len(user_label.classes_),\n",
    "    n_movies=len(movie_label.classes_)\n",
    ").to(device)\n",
    "\n",
    "optimizer = torch.optim.Adam(model.parameters(), lr=0.001)\n",
    "criterion = nn.MSELoss()"
   ]
  },
  {
   "cell_type": "code",
   "execution_count": 11,
   "id": "aa6507a2-a02b-4d5c-88f1-a8999520d760",
   "metadata": {},
   "outputs": [
    {
     "name": "stdout",
     "output_type": "stream",
     "text": [
      "Epoch 0 train loss: 3.785 test loss: 1.194282\n",
      "Epoch 1 train loss: 1.479 test loss: 1.020563\n",
      "Epoch 2 train loss: 1.046 test loss: 0.934013\n",
      "Epoch 3 train loss: 0.940 test loss: 0.888995\n",
      "Epoch 4 train loss: 0.899 test loss: 0.866646\n",
      "Epoch 5 train loss: 0.871 test loss: 0.855766\n",
      "Epoch 6 train loss: 0.856 test loss: 0.847094\n",
      "Epoch 7 train loss: 0.846 test loss: 0.835352\n",
      "Epoch 8 train loss: 0.835 test loss: 0.841196\n",
      "Epoch 9 train loss: 0.830 test loss: 0.842392\n",
      "Epoch 10 train loss: 0.824 test loss: 0.838288\n",
      "Epoch 11 train loss: 0.814 test loss: 0.832821\n",
      "Epoch 12 train loss: 0.812 test loss: 0.834944\n",
      "Epoch 13 train loss: 0.807 test loss: 0.834028\n",
      "Epoch 14 train loss: 0.805 test loss: 0.837053\n"
     ]
    }
   ],
   "source": [
    "EPOCHS = 15\n",
    "train_losses = []\n",
    "test_losses = []\n",
    "\n",
    "for epoch in range(EPOCHS):\n",
    "    model.train()\n",
    "    epoch_train_loss = 0\n",
    "    for users, movies, ratings in train_loader:\n",
    "        optimizer.zero_grad()\n",
    "        y_pred = model(users.to(device), movies.to(device))\n",
    "        y = ratings.unsqueeze(dim=1).to(device, dtype=torch.float32)\n",
    "        loss = criterion(y_pred, y)\n",
    "        loss.backward()\n",
    "        optimizer.step()\n",
    "        epoch_train_loss += loss.item()\n",
    "\n",
    "    train_loss = epoch_train_loss / len(train_loader)\n",
    "    train_losses.append(train_loss)\n",
    "\n",
    "    epoch_test_loss = 0\n",
    "    model.eval()\n",
    "    with torch.no_grad():\n",
    "        for users, movies, ratings in test_loader:\n",
    "            y_pred = model(users.to(device), movies.to(device))\n",
    "            y = ratings.unsqueeze(dim=1).to(device, dtype=torch.float32)\n",
    "            loss = criterion(y_pred, y) \n",
    "            epoch_test_loss += loss.item()\n",
    "\n",
    "    test_loss = epoch_test_loss / len(test_loader)\n",
    "    test_losses.append(test_loss)\n",
    "\n",
    "    print(f'Epoch {epoch} train loss: {train_loss:.3f} test loss: {test_loss:3f}')\n",
    "\n"
   ]
  },
  {
   "cell_type": "markdown",
   "id": "07b8e795-0a7e-4c29-98a3-038a0f591667",
   "metadata": {},
   "source": [
    "* Epoch 0 train loss: 2.170 test loss: 1.094722\n",
    "* Epoch 1 train loss: 0.994 test loss: 0.991268\n",
    "* Epoch 2 train loss: 0.913 test loss: 0.944877\n",
    "* Epoch 3 train loss: 0.852 test loss: 0.916100\n",
    "* Epoch 4 train loss: 0.805 test loss: 0.895416\n",
    "* Epoch 5 train loss: 0.770 test loss: 0.888239\n",
    "* Epoch 6 train loss: 0.744 test loss: 0.884470\n",
    "* Epoch 7 train loss: 0.722 test loss: 0.883764\n",
    "* Epoch 8 train loss: 0.704 test loss: 0.883689\n",
    "* Epoch 9 train loss: 0.689 test loss: 0.880740\n",
    "* Epoch 10 train loss: 0.674 test loss: 0.886643\n",
    "* Epoch 11 train loss: 0.661 test loss: 0.888921\n",
    "* Epoch 12 train loss: 0.649 test loss: 0.897028\n",
    "* Epoch 13 train loss: 0.637 test loss: 0.901812\n",
    "* Epoch 14 train loss: 0.628 test loss: 0.908723\n",
    "* Epoch 15 train loss: 0.618 test loss: 0.912671\n",
    "* Epoch 16 train loss: 0.610 test loss: 0.917678\n",
    "* Epoch 17 train loss: 0.601 test loss: 0.922549\n",
    "* Epoch 18 train loss: 0.593 test loss: 0.929092\n",
    "* Epoch 19 train loss: 0.585 test loss: 0.936124"
   ]
  },
  {
   "cell_type": "code",
   "execution_count": 12,
   "id": "853b55b4-ae3a-4d96-985f-a29ba9f8691e",
   "metadata": {},
   "outputs": [
    {
     "data": {
      "image/png": "[encoded data removed]",
      "text/plain": [
       "<Figure size 640x480 with 1 Axes>"
      ]
     },
     "metadata": {},
     "output_type": "display_data"
    }
   ],
   "source": [
    "sns.lineplot(x=range(EPOCHS), y=train_losses)\n",
    "sns.lineplot(x=range(EPOCHS), y=test_losses)\n",
    "plt.title('Loss curves')\n",
    "plt.show()"
   ]
  },
  {
   "cell_type": "code",
   "execution_count": 13,
   "id": "3c5866b9-f3f6-469c-a567-3536fa30bd87",
   "metadata": {},
   "outputs": [
    {
     "data": {
      "text/html": [
       "<div>\n",
       "<style scoped>\n",
       "    .dataframe tbody tr th:only-of-type {\n",
       "        vertical-align: middle;\n",
       "    }\n",
       "\n",
       "    .dataframe tbody tr th {\n",
       "        vertical-align: top;\n",
       "    }\n",
       "\n",
       "    .dataframe thead th {\n",
       "        text-align: right;\n",
       "    }\n",
       "</style>\n",
       "<table border=\"1\" class=\"dataframe\">\n",
       "  <thead>\n",
       "    <tr style=\"text-align: right;\">\n",
       "      <th></th>\n",
       "      <th>user_id</th>\n",
       "      <th>movie_id</th>\n",
       "      <th>rating</th>\n",
       "    </tr>\n",
       "  </thead>\n",
       "  <tbody>\n",
       "    <tr>\n",
       "      <th>168</th>\n",
       "      <td>287</td>\n",
       "      <td>888</td>\n",
       "      <td>3.0</td>\n",
       "    </tr>\n",
       "    <tr>\n",
       "      <th>2385</th>\n",
       "      <td>598</td>\n",
       "      <td>4355</td>\n",
       "      <td>2.5</td>\n",
       "    </tr>\n",
       "    <tr>\n",
       "      <th>11751</th>\n",
       "      <td>561</td>\n",
       "      <td>510</td>\n",
       "      <td>5.0</td>\n",
       "    </tr>\n",
       "    <tr>\n",
       "      <th>15683</th>\n",
       "      <td>602</td>\n",
       "      <td>834</td>\n",
       "      <td>3.0</td>\n",
       "    </tr>\n",
       "    <tr>\n",
       "      <th>6349</th>\n",
       "      <td>598</td>\n",
       "      <td>3104</td>\n",
       "      <td>2.5</td>\n",
       "    </tr>\n",
       "    <tr>\n",
       "      <th>19132</th>\n",
       "      <td>413</td>\n",
       "      <td>353</td>\n",
       "      <td>2.0</td>\n",
       "    </tr>\n",
       "    <tr>\n",
       "      <th>6366</th>\n",
       "      <td>287</td>\n",
       "      <td>763</td>\n",
       "      <td>1.0</td>\n",
       "    </tr>\n",
       "    <tr>\n",
       "      <th>5322</th>\n",
       "      <td>56</td>\n",
       "      <td>1008</td>\n",
       "      <td>3.0</td>\n",
       "    </tr>\n",
       "    <tr>\n",
       "      <th>18212</th>\n",
       "      <td>595</td>\n",
       "      <td>5722</td>\n",
       "      <td>2.0</td>\n",
       "    </tr>\n",
       "    <tr>\n",
       "      <th>387</th>\n",
       "      <td>136</td>\n",
       "      <td>4670</td>\n",
       "      <td>3.0</td>\n",
       "    </tr>\n",
       "  </tbody>\n",
       "</table>\n",
       "</div>"
      ],
      "text/plain": [
       "       user_id  movie_id  rating\n",
       "168        287       888     3.0\n",
       "2385       598      4355     2.5\n",
       "11751      561       510     5.0\n",
       "15683      602       834     3.0\n",
       "6349       598      3104     2.5\n",
       "19132      413       353     2.0\n",
       "6366       287       763     1.0\n",
       "5322        56      1008     3.0\n",
       "18212      595      5722     2.0\n",
       "387        136      4670     3.0"
      ]
     },
     "execution_count": 13,
     "metadata": {},
     "output_type": "execute_result"
    }
   ],
   "source": [
    "df_val = df_test.sample(10, random_state=1)\n",
    "df_val"
   ]
  },
  {
   "cell_type": "code",
   "execution_count": 14,
   "id": "54bc7a4e-9efc-47e5-a5fe-71b83a4c2b6d",
   "metadata": {},
   "outputs": [
    {
     "name": "stdout",
     "output_type": "stream",
     "text": [
      "User 287, movie 888, rating 3, predicted 3.33\n",
      "User 598, movie 4355, rating 2, predicted 2.88\n",
      "User 561, movie 510, rating 5, predicted 4.17\n",
      "User 602, movie 834, rating 3, predicted 4.13\n",
      "User 598, movie 3104, rating 2, predicted 3.18\n",
      "User 413, movie 353, rating 2, predicted 2.87\n",
      "User 287, movie 763, rating 1, predicted 2.47\n",
      "User 56, movie 1008, rating 3, predicted 2.80\n",
      "User 595, movie 5722, rating 2, predicted 2.90\n",
      "User 136, movie 4670, rating 3, predicted 3.14\n"
     ]
    }
   ],
   "source": [
    "model = model.to('cpu')\n",
    "\n",
    "model.eval()\n",
    "with torch.inference_mode():\n",
    "    for _, row in df_val.iterrows():\n",
    "        user_id = torch.tensor(row.user_id, dtype=torch.long).unsqueeze(0)\n",
    "        movie_id = torch.tensor(row.movie_id, dtype=torch.long).unsqueeze(0)\n",
    "        y_pred = model(user_id, movie_id)\n",
    "        y = row.rating\n",
    "        uid = user_id.item()\n",
    "        mid = movie_id.item()\n",
    "        y = int(y)\n",
    "        y_pred = y_pred[0].item()\n",
    "        print(f'User {uid}, movie {mid}, rating {y}, predicted {y_pred:.2f}')\n"
   ]
  },
  {
   "cell_type": "markdown",
   "id": "8bd48cfd-d4db-499a-93e9-066692afff0f",
   "metadata": {},
   "source": [
    "* User 287, movie 888, rating 3, predicted 3.47\n",
    "* User 598, movie 4355, rating 2, predicted 2.61\n",
    "* User 561, movie 510, rating 5, predicted 4.23\n",
    "* User 602, movie 834, rating 3, predicted 4.00\n",
    "* User 598, movie 3104, rating 2, predicted 3.02\n",
    "* User 413, movie 353, rating 2, predicted 3.24\n",
    "* User 287, movie 763, rating 1, predicted 2.04\n",
    "* User 56, movie 1008, rating 3, predicted 3.03\n",
    "* User 595, movie 5722, rating 2, predicted 2.63\n",
    "* User 136, movie 4670, rating 3, predicted 3.09"
   ]
  },
  {
   "cell_type": "code",
   "execution_count": 15,
   "id": "ad884469-4793-42ee-9d14-cebd80787b9b",
   "metadata": {},
   "outputs": [],
   "source": [
    "user_movie_test = defaultdict(list)\n",
    "\n",
    "model.eval()\n",
    "with torch.inference_mode():\n",
    "    for _, row in df_test.iterrows():\n",
    "        user_id = torch.tensor(row.user_id, dtype=torch.long).unsqueeze(0)\n",
    "        movie_id = torch.tensor(row.movie_id, dtype=torch.long).unsqueeze(0)\n",
    "        y_pred = model(user_id, movie_id)[0].item()\n",
    "        y = row.rating\n",
    "        uid = user_id.item()\n",
    "        mid = movie_id.item()\n",
    "        user_movie_test[uid].append((y_pred, y))\n"
   ]
  },
  {
   "cell_type": "code",
   "execution_count": 16,
   "id": "09cde2d6-b456-497a-ab3a-0dbf289957fe",
   "metadata": {},
   "outputs": [],
   "source": [
    "precisions = {}\n",
    "recalls = {}\n",
    "\n",
    "k = 10\n",
    "treshold = 3.5"
   ]
  },
  {
   "cell_type": "code",
   "execution_count": 17,
   "id": "8f06e187-4c5a-4620-841b-830ceca37869",
   "metadata": {
    "scrolled": true
   },
   "outputs": [],
   "source": [
    "for user_id, user_ratings in user_movie_test.items():\n",
    "    user_ratings.sort(key= lambda x: x[0], reverse=True)\n",
    "\n",
    "    # The relevant items are the ones that got an actual (true) rating of 4 or higher.    \n",
    "    # We don't want to recommend things that people don't like\n",
    "    number_relevant = sum((true_rating >= treshold) for (_, true_rating) in user_ratings)\n",
    "\n",
    "    # Number of recommended items that are predicted to the relevant and in the top k\n",
    "    num_pred_rel_k = sum((rating_pred >= treshold) for (rating_pred, _) in user_ratings[:k])\n",
    "\n",
    "    # number of top ten (relevant) items where ground truth and prediction see the result north or 3.5    \n",
    "    num_rel_and_re = sum((rating_pred > 3.5) and (true_rating > 3.5) for (rating_pred, true_rating) in user_ratings[:k])\n",
    "\n",
    "    #print(f'User: {user_id}')\n",
    "    #print(f'number_relevant: {number_relevant} | num_pred_rel_k: {num_pred_rel_k} | num_rel_and_re: {num_rel_and_re}')\n",
    "\n",
    "    precisions[user_id] = num_rel_and_re / num_pred_rel_k if num_pred_rel_k != 0 else 0\n",
    "    recalls[user_id] = num_rel_and_re / number_relevant if number_relevant != 0 else 0"
   ]
  },
  {
   "cell_type": "code",
   "execution_count": 18,
   "id": "ab92596d-897e-4eff-ba33-2b2700fb6341",
   "metadata": {},
   "outputs": [
    {
     "name": "stdout",
     "output_type": "stream",
     "text": [
      "Precision@k: 0.6397913571558898\n",
      "Recall@k: 0.43251288388915793\n"
     ]
    }
   ],
   "source": [
    "precisions_mean = sum(precisions.values()) / len(precisions)\n",
    "print(f'Precision@k: {precisions_mean}')\n",
    "\n",
    "recalls_mean = sum(recalls.values()) / len(recalls)\n",
    "print(f'Recall@k: {recalls_mean}')"
   ]
  },
  {
   "cell_type": "markdown",
   "id": "76473ff0-5467-4f80-8f98-f398111d4001",
   "metadata": {},
   "source": [
    "* Precision@k: 0.6507017749628594\n",
    "* Recall@k: 0.44402831647470553"
   ]
  },
  {
   "cell_type": "code",
   "execution_count": null,
   "id": "0039c1bf-a14e-4fa0-9ec3-523d1d0d635a",
   "metadata": {},
   "outputs": [],
   "source": []
  }
 ],
 "metadata": {
  "kernelspec": {
   "display_name": "Python 3 (ipykernel)",
   "language": "python",
   "name": "python3"
  },
  "language_info": {
   "codemirror_mode": {
    "name": "ipython",
    "version": 3
   },
   "file_extension": ".py",
   "mimetype": "text/x-python",
   "name": "python",
   "nbconvert_exporter": "python",
   "pygments_lexer": "ipython3",
   "version": "3.11.9"
  }
 },
 "nbformat": 4,
 "nbformat_minor": 5
}
